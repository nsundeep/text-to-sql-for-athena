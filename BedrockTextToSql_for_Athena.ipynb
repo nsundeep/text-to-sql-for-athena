{
 "cells": [
  {
   "cell_type": "markdown",
   "id": "dbc4741b-a14c-40fd-9ac0-a3bd07633747",
   "metadata": {
    "pycharm": {
     "name": "#%% md\n"
    },
    "tags": []
   },
   "source": [
    "# Building  Text-to-SQL capability to Amazon Athena using Amazon Bedrock\n",
    "\n",
    "- **Use of amazon.titan-embed-text-v1 for creating embedding**\n",
    "- **Use of Amazon OpenSearch as a vector database**\n",
    "- **Use of anthropic.claude-v2:1 as base LLM Model**\n",
    "\n",
    "\n",
    "\n",
    "## Contents\n",
    "\n",
    "1. [Objective](#Objective)\n",
    "1. [Background](#Background-(Problem-Description-and-Approach))\n",
    "1. [Overall Workflow](#Overall-Workflow)\n",
    "1. [Conclusion](#Conclusion)"
   ]
  },
  {
   "cell_type": "markdown",
   "id": "f5453ed1-3da0-4c03-a376-e90e06c8a7eb",
   "metadata": {
    "pycharm": {
     "name": "#%% md\n"
    }
   },
   "source": [
    "\n",
    "## Objective\n",
    "\n",
    "This notebook shows is to provide the code snippets within an executable flow from [this AWS Blog post](https://aws.amazon.com/blogs/machine-learning/build-a-robust-text-to-sql-solution-generating-complex-queries-self-correcting-and-querying-diverse-data-sources/).\n",
    "\n",
    "## Background (Problem Description and Approach)\n",
    "\n",
    "- **Problem statement**: \n",
    "\n",
    "Text-to-SQL solutions aim to generate SQL queries from natural language to enable non-technical users to access and analyze data. However, existing solutions face challenges related to ambiguity in natural language, needing to recreate capabilities for different databases, and collecting comprehensive metadata. The proposed solution in the text aims to address these challenges by incorporating metadata from AWS Glue Data Catalog, evaluating and correcting generated SQL queries using Amazon Athena feedback with multi-pass prompting, and leveraging Athena's support for diverse data sources.\n",
    "\n",
    "- **Our approach**: \n",
    "\n",
    "[`RAG`] The [RAG approach](https://aws.amazon.com/what-is/retrieval-augmented-generation/) offers several advantages. First, it gives up-to-date, precise responses. Rather than relying only on fixed, outdated training data, RAG utilizes current external sources to formulate its answers. In this solution, we used RAG to increase the accuracy of table name from [AWS Glue Data Catalog](https://docs.aws.amazon.com/glue/latest/dg/catalog-and-crawler.html). \n",
    "\n",
    "[`Vector Store`] [Amazon OpenSearch](https://aws.amazon.com/opensearch-service/) offers three vector engines to choose from, each catering to different use cases.Facebook AI Similarity Search (Faiss) is a library for efficient similarity search and clustering of dense vectors. This code bases used [FAISS for similiarity search](https://aws.amazon.com/about-aws/whats-new/2023/10/amazon-opensearch-service-vector-query-filters-faiss/).\n",
    "\n",
    "[`Amazon Athena`] [Amazon Athena](https://aws.amazon.com/athena/) is a serverless, interactive analytics service built on open-source frameworks, supporting open-table and file formats. Athena provides a simplified, flexible way to analyze petabytes of data where it lives. In this solution, we used Amazon Athena as the SQL engine to \n",
    "\n",
    "[`Amazon Bedrock`] [Amazon Bedrock](https://aws.amazon.com/bedrock/) is a fully managed service that offers a choice of high-performing foundation models (FMs) from leading AI companies like AI21 Labs, Anthropic, Cohere, Meta, Stability AI, and Amazon via a single API, along with a broad set of capabilities you need to build generative AI applications with security, privacy, and responsible AI.\n",
    "\n",
    "We used Bedrock with multi-step / multi-pass component which allows the LLM to correct the generated SQL query for accuracy. Here, the generated SQL is sent for syntax errors. We use Athena error messages to enrich our prompt for the LLM for more accurate and effective corrections in the generated SQL.\n",
    "\n",
    "- *[RAG on AWS](https://aws.amazon.com/what-is/retrieval-augmented-generation/)*\n",
    "- *[The langchain OpenSearch documentation](https://python.langchain.com/en/latest/ecosystem/opensearch.html)*\n",
    "- *[Amazon OpenSearch service documentation](https://docs.aws.amazon.com/opensearch-service/index.html)*\n",
    "- *[Amazon OpenSearch supports efficient vector](https://aws.amazon.com/about-aws/whats-new/2023/10/amazon-opensearch-service-vector-query-filters-faiss/)*\n",
    "\n"
   ]
  },
  {
   "cell_type": "markdown",
   "id": "59e68cc7-f452-4c88-9b49-4c10b069ce0c",
   "metadata": {
    "pycharm": {
     "name": "#%% md\n"
    }
   },
   "source": [
    "---\n",
    "\n",
    "## Overall Workflow\n",
    "\n",
    "**Prerequisite**\n",
    "\n",
    "The following are prerequisites that needs to be accomplised before executing this notebook.\n",
    "This Notebook can be executed via a Sagemaker instance or via a VS Code editor\n",
    "- Create a role having access to bedrock, glue,athena, s3,lakeformation. \n",
    "- Assign the role to the Sagemaker instance or to the instance where VS Code editor is running\n",
    "- Glue Database and tables. Provided spark notebook to create.\n",
    "- An Amazon OpenSearch cluster for storing embeddings.Here Opensearch credenitals are in notebooks. However Opensearch cluster's access credentials (username and password) can be stored in AWS Secrets Mananger by following steps described [here](https://docs.aws.amazon.com/secretsmanager/latest/userguide/managing-secrets.html).\n",
    "\n",
    "**The  workflow for this notebook is as follows:**\n",
    "1. Create an S3 bucket with the name \"knowledgebase-<ACCOUNT_ID>\" \n",
    "    - create a folder \"input\" in that bucket\n",
    "2. Download data from source \n",
    "    - https://developer.imdb.com/non-commercial-datasets/#titleakastsvgz and upload to S3 bucket from step 1 and into the \"input\" folder\n",
    "    - https://developer.imdb.com/non-commercial-datasets/#titlebasicstsvgz and upload to S3 bucket from step 1 and into the \"input\" folder\n",
    "3. Glue Steps\n",
    "    - Create a glue database  \"imdb_stg\" \n",
    "    - Create a glue crawler \"text-2-sql-crawler\" with the datasource set to the S3 bucket created in step 1.   Run the crawler.\n",
    "    - 2 tables should be created in Glue  data catalo.g  Make sure you are able to  query through athena. \n",
    "4.  From the Bedrock console, Create a new knowledgebase \n",
    "1. Install the required Python packages \n",
    "1. Create embedding and vector store. Do a similarity search with embeddings stored in the OpenSearch index for an input query.\n",
    "1. Execute this notebook to generate sql.."
   ]
  },
  {
   "cell_type": "markdown",
   "id": "994fd3e5-416d-4e4a-bfaf-faad2b53dc0c",
   "metadata": {
    "pycharm": {
     "name": "#%% md\n"
    }
   },
   "source": [
    "## Step 1: Setup\n",
    "Install the required packages."
   ]
  },
  {
   "cell_type": "code",
   "execution_count": null,
   "id": "7d5ac41b-c8a4-41ee-b397-0ace76453ee9",
   "metadata": {
    "pycharm": {
     "name": "#%%\n"
    },
    "tags": []
   },
   "outputs": [],
   "source": [
    "!pip3 install boto3\n",
    "!pip3 install jq\n",
    "\n",
    "!pip3 install langchain\n",
    "!pip3 install langchain-community langchain-core\n",
    "!pip3 install pandas\n",
    "!pip3 install opensearch-py\n",
    "!pip3 install langchain-aws\n",
    "!pip3 install requests-aws4auth\n",
    "!pip3 install botocore\n",
    "!pip3 install pymysql\n",
    "!pip3 install simplejson"
   ]
  },
  {
   "cell_type": "markdown",
   "id": "d87f072e-88b1-4afc-ba4a-daa49f05bcd8",
   "metadata": {
    "pycharm": {
     "name": "#%% md\n"
    }
   },
   "source": [
    "## Step 2: Import all modules. There are some modules in other folder."
   ]
  },
  {
   "cell_type": "code",
   "execution_count": 2,
   "id": "987d606c-5200-462b-8cce-ec377760361e",
   "metadata": {
    "pycharm": {
     "name": "#%%\n"
    },
    "tags": []
   },
   "outputs": [],
   "source": [
    "import boto3\n",
    "from botocore.config import Config\n",
    "from langchain_community.embeddings import BedrockEmbeddings\n",
    "from langchain_aws import BedrockLLM\n",
    "import traceback\n",
    "import pymysql\n",
    "import simplejson as simplejson"
   ]
  },
  {
   "cell_type": "code",
   "execution_count": 3,
   "id": "ef96ac35-3597-4bd8-80ca-035c6c98050b",
   "metadata": {
    "pycharm": {
     "name": "#%%\n"
    },
    "tags": []
   },
   "outputs": [],
   "source": [
    "import logging \n",
    "import json\n",
    "import os,sys\n",
    "import re\n",
    "import time\n",
    "import pandas as pd\n",
    "import io"
   ]
  },
  {
   "cell_type": "code",
   "execution_count": 6,
   "id": "482a9055-6cc2-419c-839f-ca1326b04957",
   "metadata": {
    "editable": true,
    "pycharm": {
     "name": "#%%\n"
    },
    "slideshow": {
     "slide_type": ""
    },
    "tags": []
   },
   "outputs": [],
   "source": [
    "from boto_client import Clientmodules\n",
    "from llm_basemodel import LanguageModel\n",
    "from athena_execution import AthenaQueryExecute\n",
    "from openSearchVCEmbedding import EmbeddingBedrockOpenSearch"
   ]
  },
  {
   "cell_type": "code",
   "execution_count": 8,
   "id": "f03e654e-024f-4837-82d1-7f277344c46f",
   "metadata": {
    "pycharm": {
     "name": "#%%\n"
    },
    "tags": []
   },
   "outputs": [],
   "source": [
    "logger = logging.getLogger(__name__)\n",
    "logger.setLevel(logging.DEBUG)\n",
    "logger.addHandler(logging.StreamHandler())"
   ]
  },
  {
   "cell_type": "markdown",
   "id": "e2a6d68a-cf48-4b7f-94c5-418f2cc8f44a",
   "metadata": {
    "pycharm": {
     "name": "#%% md\n"
    },
    "tags": []
   },
   "source": [
    "## Step 3: Checking access to Bedrock"
   ]
  },
  {
   "cell_type": "code",
   "execution_count": 11,
   "id": "436fb4f1-cd34-4146-bc96-da5e3608d720",
   "metadata": {
    "pycharm": {
     "name": "#%%\n"
    },
    "tags": []
   },
   "outputs": [
    {
     "name": "stdout",
     "output_type": "stream",
     "text": [
      "{'modelArn': 'arn:aws:bedrock:us-east-1::foundation-model/amazon.titan-tg1-large', 'modelId': 'amazon.titan-tg1-large', 'modelName': 'Titan Text Large', 'providerName': 'Amazon', 'inputModalities': ['TEXT'], 'outputModalities': ['TEXT'], 'responseStreamingSupported': True, 'customizationsSupported': [], 'inferenceTypesSupported': ['ON_DEMAND'], 'modelLifecycle': {'status': 'ACTIVE'}}\n"
     ]
    }
   ],
   "source": [
    "session = boto3.session.Session()\n",
    "bedrock_client = session.client('bedrock')\n",
    "print(bedrock_client.list_foundation_models()['modelSummaries'][0])"
   ]
  },
  {
   "cell_type": "markdown",
   "id": "4b2217e5-dc53-428f-b224-fb3ac9e8f952",
   "metadata": {
    "pycharm": {
     "name": "#%% md\n"
    }
   },
   "source": [
    "## Step 4: Invoking Athena and Bedrock"
   ]
  },
  {
   "cell_type": "code",
   "execution_count": 13,
   "id": "72e44bd9-8787-447a-b5e0-0961547bafef",
   "metadata": {
    "pycharm": {
     "name": "#%%\n"
    },
    "tags": []
   },
   "outputs": [
    {
     "name": "stderr",
     "output_type": "stream",
     "text": [
      "athena client created \n",
      "s3 client created !!\n"
     ]
    }
   ],
   "source": [
    "rqstath=AthenaQueryExecute()"
   ]
  },
  {
   "cell_type": "markdown",
   "id": "c46db72d",
   "metadata": {},
   "source": [
    "### Step 4.1 Update the variables"
   ]
  },
  {
   "cell_type": "code",
   "execution_count": 15,
   "id": "e6b0cedd-0fcb-4a3b-a7be-50bd25197230",
   "metadata": {
    "editable": true,
    "pycharm": {
     "name": "#%%\n"
    },
    "slideshow": {
     "slide_type": ""
    },
    "tags": []
   },
   "outputs": [],
   "source": [
    "\n",
    "index_name = 'bedrock-knowledge-base-default-index'  \n",
    "## domain = 'https://pcnnwyicmvlypttno21f.us-east-1.aoss.amazonaws.com'\n",
    "domain = 'https://pnwwg51jitljmsoy48gh.us-east-1.aoss.amazonaws.com'##-- update here with your OpenSearch domain\n",
    "region = 'us-east-1' ##-- update here with your AWS region\n",
    "vector_name = 'bedrock-knowledge-base-default-vector'\n",
    "fieldname = 'id'\n",
    "connection_name = 'Aurora connection'\n",
    "   "
   ]
  },
  {
   "cell_type": "code",
   "execution_count": 16,
   "id": "9af3a226",
   "metadata": {},
   "outputs": [
    {
     "name": "stderr",
     "output_type": "stream",
     "text": [
      "bedrock runtime client created \n"
     ]
    },
    {
     "name": "stdout",
     "output_type": "stream",
     "text": [
      "bedrockllm\n",
      "<llm_basemodel.LanguageModel object at 0x16b8d8980>\n",
      "bedrock_client: <botocore.client.BedrockRuntime object at 0x16c189b50>, language_model: <llm_basemodel.LanguageModel object at 0x16b8d8980>, llm: client=<botocore.client.BedrockRuntime object at 0x16c189b50> model_id='anthropic.claude-3-sonnet-20240229-v1:0' model_kwargs={'temperature': 0, 'top_k': 20, 'top_p': 1, 'stop_sequences': ['\\n\\nHuman:']}, embeddings: client=<botocore.client.BedrockRuntime object at 0x16c189b50> region_name=None credentials_profile_name=None model_id='amazon.titan-embed-text-v2:0' model_kwargs=None endpoint_url=None normalize=False, opensearch_domain_endpoint: https://pnwwg51jitljmsoy48gh.us-east-1.aoss.amazonaws.com, http_auth: <requests_aws4auth.aws4auth.AWS4Auth object at 0x16a2aee10>, vector_name: bedrock-knowledge-base-default-vector, fieldname: id\n"
     ]
    },
    {
     "name": "stderr",
     "output_type": "stream",
     "text": [
      "/opt/anaconda3/lib/python3.12/site-packages/langchain_core/_api/deprecation.py:141: LangChainDeprecationWarning: The class `BedrockEmbeddings` was deprecated in LangChain 0.2.11 and will be removed in 0.4.0. An updated version of the class exists in the langchain-aws package and should be used instead. To use it run `pip install -U langchain-aws` and import as `from langchain_aws import BedrockEmbeddings`.\n",
      "  warn_deprecated(\n"
     ]
    }
   ],
   "source": [
    "ebropen2=EmbeddingBedrockOpenSearch(domain,  vector_name,  fieldname)\n",
    "if ebropen2 is None:\n",
    "    print(\"ebropen2 is null\")\n",
    "else:\n",
    "    attrs = vars(ebropen2)\n",
    "    print(', '.join(\"%s: %s\" % item for item in attrs.items()))"
   ]
  },
  {
   "cell_type": "markdown",
   "id": "73833ad4-d3e0-46a5-acd0-2e112e23fcc9",
   "metadata": {
    "pycharm": {
     "name": "#%% md\n"
    },
    "tags": []
   },
   "source": [
    "## Step 5: Core logic\n",
    "1. getEmbeddding : Take the input user query and vector search to find the schema from vector db created.\n",
    "2. generate_sql: Taking the input prompt, generate sql . syntax_checker helps to check the sql syntax.\n"
   ]
  },
  {
   "cell_type": "code",
   "execution_count": 18,
   "id": "fdcd87a9-f028-43ab-94a4-8d9b5b5bd163",
   "metadata": {
    "editable": true,
    "pycharm": {
     "name": "#%%\n"
    },
    "slideshow": {
     "slide_type": ""
    },
    "tags": []
   },
   "outputs": [],
   "source": [
    "class RequestQueryBedrock:\n",
    "    def __init__(self, ebropen2):\n",
    "    \n",
    "        ##self.bedrock_client = Clientmodules.createBedrockRuntimeClient()\n",
    "        self.ebropen2 = ebropen2\n",
    "  \n",
    "\n",
    "        self.bedrock_client = ebropen2.bedrock_client\n",
    "        if self.bedrock_client is None:\n",
    "            self.bedrock_client = Clientmodules.createBedrockRuntimeClient()\n",
    "        else : \n",
    "            print(\"the bedrock_client is not null\")\n",
    "        self.language_model = LanguageModel(self.bedrock_client)\n",
    "        self.llm = self.language_model.llm\n",
    "        \n",
    "    def getOpenSearchEmbedding(self, index_name,user_query):\n",
    "        vcindxdoc=self.ebropen2.getDocumentfromIndex(index_name=index_name)\n",
    "        documnet=self.ebropen2.getSimilaritySearch(user_query,vcindxdoc)\n",
    "        #return self.ebropen2.format_metadata(documnet)\n",
    "        return self.ebropen2.get_data(documnet)\n",
    "\n",
    "    def generateResponse(self,prompt):\n",
    "        generated_response = self.llm.predict(prompt)\n",
    "        return generated_response\n",
    "        \n",
    "    def generate_sql(self,prompt, max_attempt=4) ->str:\n",
    "            \"\"\"\n",
    "            Generate and Validate SQL query.\n",
    "\n",
    "            Args:\n",
    "            - prompt (str): Prompt is user input and metadata from Rag to generating SQL.\n",
    "            - max_attempt (int): Maximum number of attempts correct the syntax SQL.\n",
    "\n",
    "            Returns:\n",
    "            - string: Sql query is returned .\n",
    "            \"\"\"\n",
    "            attempt = 0\n",
    "            error_messages = []\n",
    "            prompts = [prompt]\n",
    "\n",
    "            while attempt < max_attempt:\n",
    "                logger.info(f'Sql Generation attempt Count: {attempt+1}')\n",
    "                try:\n",
    "                    logger.info(f'we are in Try block to generate the sql and count is :{attempt+1}')\n",
    "                    logger.info(f'Prompt is :{prompt}')\n",
    "                    generated_sql = self.llm.predict(prompt)\n",
    "                    logger.info(f'generated_sql is :{generated_sql}')\n",
    "                    query_str = generated_sql.split(\"```\")[1]\n",
    "                    query_str = \" \".join(query_str.split(\"\\n\")).strip()                    \n",
    "                    sql_query = query_str[3:] if query_str.startswith(\"sql\") else query_str\n",
    "                    print(sql_query)\n",
    "                    # return sql_query\n",
    "                    syntaxcheckmsg=rqstath.syntax_checker(sql_query)\n",
    "                    if syntaxcheckmsg=='Passed':\n",
    "                        logger.info(f'syntax checked for query passed in attempt number :{attempt+1}')\n",
    "                        return sql_query\n",
    "                    else:\n",
    "                        prompt = f\"\"\"{prompt}\n",
    "                        This is syntax error: {syntaxcheckmsg}. \n",
    "                        To correct this, please generate an alternative SQL query which will correct the syntax error.\n",
    "                        The updated query should take care of all the syntax issues encountered.\n",
    "                        Follow the instructions mentioned above to remediate the error. \n",
    "                        Update the below SQL query to resolve the issue:\n",
    "                        {sqlgenerated}\n",
    "                        Make sure the updated SQL query aligns with the requirements provided in the initial question.\"\"\"\n",
    "                        prompts.append(prompt)\n",
    "                        attempt += 1\n",
    "                except Exception as e:\n",
    "                    print(e)\n",
    "                    logger.error('FAILED')\n",
    "                    msg = str(e)\n",
    "                    error_messages.append(msg)\n",
    "                    attempt += 1\n",
    "            return sql_query"
   ]
  },
  {
   "cell_type": "markdown",
   "id": "d5cc21a1",
   "metadata": {},
   "source": [
    "Create an instance of  RequestQueryBedrock class"
   ]
  },
  {
   "cell_type": "code",
   "execution_count": 23,
   "id": "13da2f51-6032-4564-8943-3c36e55b025f",
   "metadata": {
    "pycharm": {
     "name": "#%%\n"
    },
    "tags": []
   },
   "outputs": [
    {
     "name": "stdout",
     "output_type": "stream",
     "text": [
      "the bedrock_client is not null\n",
      "bedrockllm\n"
     ]
    }
   ],
   "source": [
    "rqst=RequestQueryBedrock(ebropen2)"
   ]
  },
  {
   "cell_type": "code",
   "execution_count": 27,
   "id": "db6b4e5f-b52e-4209-aab7-403dabc61239",
   "metadata": {
    "editable": true,
    "pycharm": {
     "name": "#%%\n"
    },
    "slideshow": {
     "slide_type": ""
    },
    "tags": []
   },
   "outputs": [],
   "source": [
    "def userinput(user_query):\n",
    "    logger.info(f'Searching metadata from vector store')\n",
    "    # vector_search_match=rqst.getEmbeddding(user_query)\n",
    "    vector_search_match=rqst.getOpenSearchEmbedding( index_name,user_query)\n",
    "  \n",
    " \n",
    "    details=\"It is important that the SQL query complies with Athena syntax. During join if column name are same please use alias ex llm.customer_id in select statement. It is also important to respect the type of columns: if a column is string, the value should be enclosed in quotes. If you are writing CTEs then include all the required columns. While concatenating a non string column, make sure cast the column to string. For date columns comparing to string , please cast the string input. Alwayws use the database name along with the table name. Always use ```sql to indicate start of query and ``` to indicate end of query\"\n",
    "    final_question = \"\\n\\nHuman:\"+details + vector_search_match + user_query+ \"n\\nAssistant:\"\n",
    "    print(\"FINAL QUESTION :::\" + final_question)\n",
    "    answer = rqst.generate_sql(final_question)\n",
    "    return answer"
   ]
  },
  {
   "cell_type": "markdown",
   "id": "68ebe772-af08-4df5-b950-3d6aa35dd1cb",
   "metadata": {
    "pycharm": {
     "name": "#%% md\n"
    }
   },
   "source": [
    "## Step 6: User input in Natural Language"
   ]
  },
  {
   "cell_type": "code",
   "execution_count": 30,
   "id": "21d5b62a-4446-43d2-a4bf-6d51061160a9",
   "metadata": {
    "pycharm": {
     "name": "#%%\n"
    },
    "tags": []
   },
   "outputs": [],
   "source": [
    "#user_query='how many titles exist '\n",
    "#user_query = 'show me top 10 title by user rating'\n",
    "#user_query = 'show me top 10 titles in US region'\n",
    "#user_query = 'which year was a movie/title  made'\n",
    "user_query = 'What is the most expensive distribution stream'\n",
    "#user_query = 'What is the deviation between avg cost of projects in NFL cities to non NFL cities'"
   ]
  },
  {
   "cell_type": "code",
   "execution_count": 32,
   "id": "ec2cf58a-1cff-4530-8fa8-d89e003feac2",
   "metadata": {
    "editable": true,
    "pycharm": {
     "name": "#%%\n"
    },
    "slideshow": {
     "slide_type": ""
    },
    "tags": []
   },
   "outputs": [
    {
     "name": "stderr",
     "output_type": "stream",
     "text": [
      "Searching metadata from vector store\n",
      "Sql Generation attempt Count: 1\n",
      "we are in Try block to generate the sql and count is :1\n",
      "Prompt is :\n",
      "\n",
      "Human:It is important that the SQL query complies with Athena syntax. During join if column name are same please use alias ex llm.customer_id in select statement. It is also important to respect the type of columns: if a column is string, the value should be enclosed in quotes. If you are writing CTEs then include all the required columns. While concatenating a non string column, make sure cast the column to string. For date columns comparing to string , please cast the string input. Alwayws use the database name along with the table name. Always use ```sql to indicate start of query and ``` to indicate end of queryidentifier of the project\"},{\"Name\":\"country_id\",\"Type\":\"integer\",\"Comment\":\"This is the id of the country in which the project / store exists\"},{\"Name\":\"name\",\"Type\":\"Text\",\"Comment\":\"This is the name of the project which is also the name of a retail store\"},{\"Name\":\"project_target_year\",\"Type\":\"integer\",\"Comment\":\"The field contains the year in which the store is targetted to open\"},{\"Name\":\"city\",\"Type\":\"Text\",\"Comment\":\"The field contains the city in which the store is located\"}]},{\"database_name\":\"urspace_staging\",\"table_name\":\"myprojects_custom_data\",\"table_description\":\"This table contains additional details of a project/store\",\"relationships\":{\"primary_key\":[{\"column_name\":\"IDX\",\"constraint\":\"not null\"}]},\"columns\":[{\"Name\":\"IDX\",\"Type\":\"integer\",\"Comment\":\"This is the unique identifier of the project\"},{\"Name\":\"distribution_stream\",\"Type\":\"text\",\"Comment\":\"This is the enumerations which contains the following values IR MOB,SR MOB,MOB SR,MOB IR,CLASSIC,EXPERIENTIAL FLAGSHIP,POP UP,RESTAURANT,CHOCOLATE,MUB,Flagship,TEMP,KEY,CAFÉ,OTHERS,AIRPORT,VIC,GIFT SHOP,EXHIBITION and many more.\n",
      "[{\"database_name\":\"urspace_staging\",\"table_name\":\"myprojects_budget_scopes\",\"table_description\":\"This table contains budget and cost details of a budget for a project. There will be multiple rows per budget where each row is a scope of work\",\"relationships\":{\"primary_key\":[{\"column_name\":\"id\",\"constraint\":\"not null\"}]},\"columns\":[{\"Name\":\"id\",\"Type\":\"integer\",\"Comment\":\"This is the unique identifier of the budget or cost scope\"},{\"Name\":\"budget_id\",\"Type\":\"integer\",\"Comment\":\"This is the id of the budget to which the cost or budget item belongs to\"},{\"Name\":\"scope_name\",\"Type\":\"Text\",\"Comment\":\"This is the name of the scope which is the head under which a budget is estimated or cost is accounted for\"},{\"Name\":\"budget_amount\",\"Type\":\"double\",\"Comment\":\"The amount of budget for the specific scope\"},{\"Name\":\"cost_amount\",\"Type\":\"double\",\"Comment\":\"The amount of cost for the specific scope\"}]},{\"database_name\":\"urspace_staging\",\"table_name\":\"myprojects_budgets\",\"table_description\":\"This table contains the name of the budgets for a project\",\"relationships\":{\"primary_key\":[{\"column_name\":\"id\",\"constraint\":\"not null\"}],\"foreign_keys\":[{\"database_name\":\"urspace_staging\",\"table_name\":\"myprojects_budget_scopes\",\"join_on_column\":\"budget_id\"}]},\"columns\":[{\"Name\":\"id\",\"Type\":\"integer\",\"Comment\":\"This is the unique identifier of the\n",
      "scope\"}]},{\"database_name\":\"urspace_staging\",\"table_name\":\"myprojects_budgets\",\"table_description\":\"This table contains the name of the budgets for a project\",\"relationships\":{\"primary_key\":[{\"column_name\":\"id\",\"constraint\":\"not null\"}],\"foreign_keys\":[{\"database_name\":\"urspace_staging\",\"table_name\":\"myprojects_budget_scopes\",\"join_on_column\":\"budget_id\"}]},\"columns\":[{\"Name\":\"id\",\"Type\":\"integer\",\"Comment\":\"This is the unique identifier of the budget\"},{\"Name\":\"project_id\",\"Type\":\"integer\",\"Comment\":\"This is the id of the project to which the budget belongs to\"},{\"Name\":\"title\",\"Type\":\"Text\",\"Comment\":\"This is the name of the budget in a project\"},{\"Name\":\"contingency\",\"Type\":\"double\",\"Comment\":\"The field contains the percentage of contingency of budget for the specific budget\"}]},{\"database_name\":\"urspace_staging\",\"table_name\":\"myprojects\",\"table_description\":\"This table contains the basic details of a project\",\"relationships\":{\"primary_key\":[{\"column_name\":\"id\",\"constraint\":\"not null\"}],\"foreign_keys\":[{\"database_name\":\"urspace_staging\",\"table_name\":\"myprojects_budgets\",\"join_on_column\":\"project_id\"}]},\"columns\":[{\"Name\":\"id\",\"Type\":\"integer\",\"Comment\":\"This is the unique identifier of the project\"},{\"Name\":\"country_id\",\"Type\":\"integer\",\"Comment\":\"This is the id of the country in which the project / store\n",
      "which contains the following values IR MOB,SR MOB,MOB SR,MOB IR,CLASSIC,EXPERIENTIAL FLAGSHIP,POP UP,RESTAURANT,CHOCOLATE,MUB,Flagship,TEMP,KEY,CAFÉ,OTHERS,AIRPORT,VIC,GIFT SHOP,EXHIBITION and many more. Ignore the nulls\"},{\"Name\":\"project_status\",\"Type\":\"Text\",\"Comment\":\"This is the enumeration which contains values like Project approved,Planned project,Design in progress,Construction in progress,Planned project,Cancelled,Completed,Tender in progress and many more.Ignore the nulls\"},{\"Name\":\"general_contractor\",\"Type\":\"integer\",\"Comment\":\"The field contains the name of the general contractor for the project\"}]}]What is the most expensive distribution streamn\n",
      "Assistant:\n"
     ]
    },
    {
     "name": "stdout",
     "output_type": "stream",
     "text": [
      "FINAL QUESTION :::\n",
      "\n",
      "Human:It is important that the SQL query complies with Athena syntax. During join if column name are same please use alias ex llm.customer_id in select statement. It is also important to respect the type of columns: if a column is string, the value should be enclosed in quotes. If you are writing CTEs then include all the required columns. While concatenating a non string column, make sure cast the column to string. For date columns comparing to string , please cast the string input. Alwayws use the database name along with the table name. Always use ```sql to indicate start of query and ``` to indicate end of queryidentifier of the project\"},{\"Name\":\"country_id\",\"Type\":\"integer\",\"Comment\":\"This is the id of the country in which the project / store exists\"},{\"Name\":\"name\",\"Type\":\"Text\",\"Comment\":\"This is the name of the project which is also the name of a retail store\"},{\"Name\":\"project_target_year\",\"Type\":\"integer\",\"Comment\":\"The field contains the year in which the store is targetted to open\"},{\"Name\":\"city\",\"Type\":\"Text\",\"Comment\":\"The field contains the city in which the store is located\"}]},{\"database_name\":\"urspace_staging\",\"table_name\":\"myprojects_custom_data\",\"table_description\":\"This table contains additional details of a project/store\",\"relationships\":{\"primary_key\":[{\"column_name\":\"IDX\",\"constraint\":\"not null\"}]},\"columns\":[{\"Name\":\"IDX\",\"Type\":\"integer\",\"Comment\":\"This is the unique identifier of the project\"},{\"Name\":\"distribution_stream\",\"Type\":\"text\",\"Comment\":\"This is the enumerations which contains the following values IR MOB,SR MOB,MOB SR,MOB IR,CLASSIC,EXPERIENTIAL FLAGSHIP,POP UP,RESTAURANT,CHOCOLATE,MUB,Flagship,TEMP,KEY,CAFÉ,OTHERS,AIRPORT,VIC,GIFT SHOP,EXHIBITION and many more.\n",
      "[{\"database_name\":\"urspace_staging\",\"table_name\":\"myprojects_budget_scopes\",\"table_description\":\"This table contains budget and cost details of a budget for a project. There will be multiple rows per budget where each row is a scope of work\",\"relationships\":{\"primary_key\":[{\"column_name\":\"id\",\"constraint\":\"not null\"}]},\"columns\":[{\"Name\":\"id\",\"Type\":\"integer\",\"Comment\":\"This is the unique identifier of the budget or cost scope\"},{\"Name\":\"budget_id\",\"Type\":\"integer\",\"Comment\":\"This is the id of the budget to which the cost or budget item belongs to\"},{\"Name\":\"scope_name\",\"Type\":\"Text\",\"Comment\":\"This is the name of the scope which is the head under which a budget is estimated or cost is accounted for\"},{\"Name\":\"budget_amount\",\"Type\":\"double\",\"Comment\":\"The amount of budget for the specific scope\"},{\"Name\":\"cost_amount\",\"Type\":\"double\",\"Comment\":\"The amount of cost for the specific scope\"}]},{\"database_name\":\"urspace_staging\",\"table_name\":\"myprojects_budgets\",\"table_description\":\"This table contains the name of the budgets for a project\",\"relationships\":{\"primary_key\":[{\"column_name\":\"id\",\"constraint\":\"not null\"}],\"foreign_keys\":[{\"database_name\":\"urspace_staging\",\"table_name\":\"myprojects_budget_scopes\",\"join_on_column\":\"budget_id\"}]},\"columns\":[{\"Name\":\"id\",\"Type\":\"integer\",\"Comment\":\"This is the unique identifier of the\n",
      "scope\"}]},{\"database_name\":\"urspace_staging\",\"table_name\":\"myprojects_budgets\",\"table_description\":\"This table contains the name of the budgets for a project\",\"relationships\":{\"primary_key\":[{\"column_name\":\"id\",\"constraint\":\"not null\"}],\"foreign_keys\":[{\"database_name\":\"urspace_staging\",\"table_name\":\"myprojects_budget_scopes\",\"join_on_column\":\"budget_id\"}]},\"columns\":[{\"Name\":\"id\",\"Type\":\"integer\",\"Comment\":\"This is the unique identifier of the budget\"},{\"Name\":\"project_id\",\"Type\":\"integer\",\"Comment\":\"This is the id of the project to which the budget belongs to\"},{\"Name\":\"title\",\"Type\":\"Text\",\"Comment\":\"This is the name of the budget in a project\"},{\"Name\":\"contingency\",\"Type\":\"double\",\"Comment\":\"The field contains the percentage of contingency of budget for the specific budget\"}]},{\"database_name\":\"urspace_staging\",\"table_name\":\"myprojects\",\"table_description\":\"This table contains the basic details of a project\",\"relationships\":{\"primary_key\":[{\"column_name\":\"id\",\"constraint\":\"not null\"}],\"foreign_keys\":[{\"database_name\":\"urspace_staging\",\"table_name\":\"myprojects_budgets\",\"join_on_column\":\"project_id\"}]},\"columns\":[{\"Name\":\"id\",\"Type\":\"integer\",\"Comment\":\"This is the unique identifier of the project\"},{\"Name\":\"country_id\",\"Type\":\"integer\",\"Comment\":\"This is the id of the country in which the project / store\n",
      "which contains the following values IR MOB,SR MOB,MOB SR,MOB IR,CLASSIC,EXPERIENTIAL FLAGSHIP,POP UP,RESTAURANT,CHOCOLATE,MUB,Flagship,TEMP,KEY,CAFÉ,OTHERS,AIRPORT,VIC,GIFT SHOP,EXHIBITION and many more. Ignore the nulls\"},{\"Name\":\"project_status\",\"Type\":\"Text\",\"Comment\":\"This is the enumeration which contains values like Project approved,Planned project,Design in progress,Construction in progress,Planned project,Cancelled,Completed,Tender in progress and many more.Ignore the nulls\"},{\"Name\":\"general_contractor\",\"Type\":\"integer\",\"Comment\":\"The field contains the name of the general contractor for the project\"}]}]What is the most expensive distribution streamn\n",
      "Assistant:\n"
     ]
    },
    {
     "name": "stderr",
     "output_type": "stream",
     "text": [
      "/opt/anaconda3/lib/python3.12/site-packages/langchain_core/_api/deprecation.py:141: LangChainDeprecationWarning: The method `BaseChatModel.predict` was deprecated in langchain-core 0.1.7 and will be removed in 1.0. Use invoke instead.\n",
      "  warn_deprecated(\n",
      "generated_sql is :To find the most expensive distribution stream, we can use the following SQL query:\n",
      "\n",
      "```sql\n",
      "WITH cte AS (\n",
      "  SELECT \n",
      "    mp.id AS project_id,\n",
      "    mpcd.distribution_stream,\n",
      "    SUM(mbs.budget_amount) AS total_budget\n",
      "  FROM urspace_staging.myprojects mp\n",
      "  JOIN urspace_staging.myprojects_budgets mpb ON mp.id = mpb.project_id\n",
      "  JOIN urspace_staging.myprojects_budget_scopes mbs ON mpb.id = mbs.budget_id\n",
      "  JOIN urspace_staging.myprojects_custom_data mpcd ON mp.id = mpcd.IDX\n",
      "  WHERE mpcd.distribution_stream IS NOT NULL\n",
      "  GROUP BY mp.id, mpcd.distribution_stream\n",
      ")\n",
      "SELECT \n",
      "  distribution_stream,\n",
      "  MAX(total_budget) AS max_budget\n",
      "FROM cte\n",
      "GROUP BY distribution_stream\n",
      "ORDER BY max_budget DESC\n",
      "LIMIT 1;\n",
      "```\n",
      "\n",
      "Explanation:\n",
      "\n",
      "1. The CTE (Common Table Expression) joins the `myprojects`, `myprojects_budgets`, `myprojects_budget_scopes`, and `myprojects_custom_data` tables to calculate the total budget for each project and its corresponding distribution stream.\n",
      "2. The `SUM(mbs.budget_amount)` aggregates the budget amounts from the `myprojects_budget_scopes` table for each project.\n",
      "3. The outer query groups the results from the CTE by `distribution_stream` and calculates the maximum `total_budget` for each group.\n",
      "4. The `ORDER BY max_budget DESC` sorts the results in descending order of the maximum budget.\n",
      "5. The `LIMIT 1` clause returns only the row with the highest maximum budget, which corresponds to the most expensive distribution stream.\n",
      "\n",
      "Note: This query assumes that the budget amounts are stored in the `myprojects_budget_scopes` table and that the distribution stream information is available in the `myprojects_custom_data` table. If the data is stored differently, the query may need to be adjusted accordingly.\n"
     ]
    },
    {
     "name": "stdout",
     "output_type": "stream",
     "text": [
      " WITH cte AS (   SELECT      mp.id AS project_id,     mpcd.distribution_stream,     SUM(mbs.budget_amount) AS total_budget   FROM urspace_staging.myprojects mp   JOIN urspace_staging.myprojects_budgets mpb ON mp.id = mpb.project_id   JOIN urspace_staging.myprojects_budget_scopes mbs ON mpb.id = mbs.budget_id   JOIN urspace_staging.myprojects_custom_data mpcd ON mp.id = mpcd.IDX   WHERE mpcd.distribution_stream IS NOT NULL   GROUP BY mp.id, mpcd.distribution_stream ) SELECT    distribution_stream,   MAX(total_budget) AS max_budget FROM cte GROUP BY distribution_stream ORDER BY max_budget DESC LIMIT 1;\n",
      "Inside syntax_checker  WITH cte AS (   SELECT      mp.id AS project_id,     mpcd.distribution_stream,     SUM(mbs.budget_amount) AS total_budget   FROM urspace_staging.myprojects mp   JOIN urspace_staging.myprojects_budgets mpb ON mp.id = mpb.project_id   JOIN urspace_staging.myprojects_budget_scopes mbs ON mpb.id = mbs.budget_id   JOIN urspace_staging.myprojects_custom_data mpcd ON mp.id = mpcd.IDX   WHERE mpcd.distribution_stream IS NOT NULL   GROUP BY mp.id, mpcd.distribution_stream ) SELECT    distribution_stream,   MAX(total_budget) AS max_budget FROM cte GROUP BY distribution_stream ORDER BY max_budget DESC LIMIT 1;\n",
      "Executing: Explain   WITH cte AS (   SELECT      mp.id AS project_id,     mpcd.distribution_stream,     SUM(mbs.budget_amount) AS total_budget   FROM urspace_staging.myprojects mp   JOIN urspace_staging.myprojects_budgets mpb ON mp.id = mpb.project_id   JOIN urspace_staging.myprojects_budget_scopes mbs ON mpb.id = mbs.budget_id   JOIN urspace_staging.myprojects_custom_data mpcd ON mp.id = mpcd.IDX   WHERE mpcd.distribution_stream IS NOT NULL   GROUP BY mp.id, mpcd.distribution_stream ) SELECT    distribution_stream,   MAX(total_budget) AS max_budget FROM cte GROUP BY distribution_stream ORDER BY max_budget DESC LIMIT 1;\n",
      " I am checking the syntax here\n",
      "execution_id: bcb9fc18-92cf-4f80-99ed-05c18e20956e\n"
     ]
    },
    {
     "name": "stderr",
     "output_type": "stream",
     "text": [
      "syntax checked for query passed in attempt number :1\n"
     ]
    },
    {
     "name": "stdout",
     "output_type": "stream",
     "text": [
      "Status : {'State': 'SUCCEEDED', 'SubmissionDateTime': datetime.datetime(2024, 9, 6, 4, 38, 24, 989000, tzinfo=tzlocal()), 'CompletionDateTime': datetime.datetime(2024, 9, 6, 4, 38, 25, 667000, tzinfo=tzlocal())}\n"
     ]
    }
   ],
   "source": [
    "querygenerated=userinput(user_query)"
   ]
  },
  {
   "cell_type": "markdown",
   "id": "642ee907-5f0e-4b3d-93f7-3f8b4e048555",
   "metadata": {
    "editable": true,
    "pycharm": {
     "name": "#%% md\n"
    },
    "slideshow": {
     "slide_type": ""
    },
    "tags": []
   },
   "source": [
    "## Step 7: Sql Query and Query Execution output"
   ]
  },
  {
   "cell_type": "code",
   "execution_count": 34,
   "id": "864a622a-b0bb-4376-916b-c6d9f0949a47",
   "metadata": {
    "editable": true,
    "pycharm": {
     "name": "#%%\n"
    },
    "slideshow": {
     "slide_type": ""
    },
    "tags": []
   },
   "outputs": [],
   "source": [
    "def executeQuery(region,conn_name,query):\n",
    "\n",
    "        client = boto3.client('glue', region_name=region)\n",
    "        response = client.get_connection(Name=conn_name)\n",
    "\n",
    "        connection_properties = response['Connection']['ConnectionProperties']\n",
    "        URL = connection_properties['JDBC_CONNECTION_URL']\n",
    "        url_list = URL.split(\"/\")\n",
    "\n",
    "        host = \"{}\".format(url_list[-2][:-5])\n",
    "        port = url_list[-2][-4:]\n",
    "        database = \"{}\".format(url_list[-1])\n",
    "        user = \"{}\".format(connection_properties['USERNAME'])\n",
    "        pwd = \"{}\".format(connection_properties['PASSWORD'])\n",
    "\n",
    "        # print \"user:{}\".format(user)\n",
    "        # print \"pwd:{}\".format(pwd)\n",
    "        # print \"host:{}\".format(host)\n",
    "        # print \"port:{}\".format(port)\n",
    "        # print \"database:{}\".format(database)\n",
    "\n",
    "        rs_conn = pymysql.connect(database=database, host=host, user=user, password=pwd)\n",
    "        cur = rs_conn.cursor()\n",
    "        cur.execute(query)\n",
    "        columns = cur.description \n",
    "        result = [{columns[index][0]:column for index, column in enumerate(value)} for value in cur.fetchall()]\n",
    "\n",
    "        #results = cur.fetchall()\n",
    "        #rs_conn.commit()\n",
    "        cur.close()\n",
    "        return result"
   ]
  },
  {
   "cell_type": "code",
   "execution_count": 35,
   "id": "4bf3c786-171e-426c-b501-703ae39531c4",
   "metadata": {
    "editable": true,
    "pycharm": {
     "name": "#%%\n"
    },
    "slideshow": {
     "slide_type": ""
    },
    "tags": []
   },
   "outputs": [],
   "source": [
    "QueryOutput = executeQuery(region,connection_name,querygenerated)"
   ]
  },
  {
   "cell_type": "code",
   "execution_count": 36,
   "id": "8437f608-8a03-47b4-a79c-4abcc7944711",
   "metadata": {},
   "outputs": [
    {
     "name": "stdout",
     "output_type": "stream",
     "text": [
      "{'distribution_stream': 'MOB IR', 'max_budget': Decimal('1050000000.00')}\n"
     ]
    }
   ],
   "source": [
    "for row in QueryOutput:\n",
    "    print(row)"
   ]
  },
  {
   "cell_type": "code",
   "execution_count": 45,
   "id": "2b23b38b-bb2b-427a-a71d-d13a0e450770",
   "metadata": {},
   "outputs": [],
   "source": [
    "prompt = \"Create a response that can be presented to a human without restating the question when he has asked the following query: \"+user_query+\"?  and Response from the database for the query being\"+simplejson.dumps(QueryOutput);\n",
    "generated_response = rqst.generateResponse(prompt)"
   ]
  },
  {
   "cell_type": "code",
   "execution_count": 46,
   "id": "26f856ee-bcd8-49d7-97db-47eebe54172d",
   "metadata": {},
   "outputs": [
    {
     "name": "stdout",
     "output_type": "stream",
     "text": [
      "The most expensive distribution stream is \"MOB IR\" with a maximum budget of $1,050,000,000.00.\n"
     ]
    }
   ],
   "source": [
    "print(generated_response)"
   ]
  },
  {
   "cell_type": "markdown",
   "id": "98397d4d-9b97-4c72-8763-f2247e88cd01",
   "metadata": {
    "pycharm": {
     "name": "#%% md\n"
    },
    "tags": []
   },
   "source": [
    "\n",
    "## Cleanup\n",
    "\n",
    "To avoid incurring future charges, delete the resources.\n"
   ]
  },
  {
   "cell_type": "markdown",
   "id": "47fa1ade-7993-4348-a0f6-c511f1a797e7",
   "metadata": {
    "editable": true,
    "pycharm": {
     "name": "#%% md\n"
    },
    "slideshow": {
     "slide_type": ""
    },
    "tags": []
   },
   "source": [
    "## Conclusion\n",
    "In this notebook we were able to see how to use bedrock to deploy LLM Model to generate embeddings,then ingest those embeddings into OpenSearch and finally do a similarity search for user input to the documents (embeddings) stored in OpenSearch. Please read our [AWS Blog Post](https://aws.amazon.com/blogs/machine-learning/build-a-robust-text-to-sql-solution-generating-complex-queries-self-correcting-and-querying-diverse-data-sources/) on this topic to learn more about the solution.\n"
   ]
  }
 ],
 "metadata": {
  "availableInstances": [
   {
    "_defaultOrder": 0,
    "_isFastLaunch": true,
    "category": "General purpose",
    "gpuNum": 0,
    "hideHardwareSpecs": false,
    "memoryGiB": 4,
    "name": "ml.t3.medium",
    "vcpuNum": 2
   },
   {
    "_defaultOrder": 1,
    "_isFastLaunch": false,
    "category": "General purpose",
    "gpuNum": 0,
    "hideHardwareSpecs": false,
    "memoryGiB": 8,
    "name": "ml.t3.large",
    "vcpuNum": 2
   },
   {
    "_defaultOrder": 2,
    "_isFastLaunch": false,
    "category": "General purpose",
    "gpuNum": 0,
    "hideHardwareSpecs": false,
    "memoryGiB": 16,
    "name": "ml.t3.xlarge",
    "vcpuNum": 4
   },
   {
    "_defaultOrder": 3,
    "_isFastLaunch": false,
    "category": "General purpose",
    "gpuNum": 0,
    "hideHardwareSpecs": false,
    "memoryGiB": 32,
    "name": "ml.t3.2xlarge",
    "vcpuNum": 8
   },
   {
    "_defaultOrder": 4,
    "_isFastLaunch": true,
    "category": "General purpose",
    "gpuNum": 0,
    "hideHardwareSpecs": false,
    "memoryGiB": 8,
    "name": "ml.m5.large",
    "vcpuNum": 2
   },
   {
    "_defaultOrder": 5,
    "_isFastLaunch": false,
    "category": "General purpose",
    "gpuNum": 0,
    "hideHardwareSpecs": false,
    "memoryGiB": 16,
    "name": "ml.m5.xlarge",
    "vcpuNum": 4
   },
   {
    "_defaultOrder": 6,
    "_isFastLaunch": false,
    "category": "General purpose",
    "gpuNum": 0,
    "hideHardwareSpecs": false,
    "memoryGiB": 32,
    "name": "ml.m5.2xlarge",
    "vcpuNum": 8
   },
   {
    "_defaultOrder": 7,
    "_isFastLaunch": false,
    "category": "General purpose",
    "gpuNum": 0,
    "hideHardwareSpecs": false,
    "memoryGiB": 64,
    "name": "ml.m5.4xlarge",
    "vcpuNum": 16
   },
   {
    "_defaultOrder": 8,
    "_isFastLaunch": false,
    "category": "General purpose",
    "gpuNum": 0,
    "hideHardwareSpecs": false,
    "memoryGiB": 128,
    "name": "ml.m5.8xlarge",
    "vcpuNum": 32
   },
   {
    "_defaultOrder": 9,
    "_isFastLaunch": false,
    "category": "General purpose",
    "gpuNum": 0,
    "hideHardwareSpecs": false,
    "memoryGiB": 192,
    "name": "ml.m5.12xlarge",
    "vcpuNum": 48
   },
   {
    "_defaultOrder": 10,
    "_isFastLaunch": false,
    "category": "General purpose",
    "gpuNum": 0,
    "hideHardwareSpecs": false,
    "memoryGiB": 256,
    "name": "ml.m5.16xlarge",
    "vcpuNum": 64
   },
   {
    "_defaultOrder": 11,
    "_isFastLaunch": false,
    "category": "General purpose",
    "gpuNum": 0,
    "hideHardwareSpecs": false,
    "memoryGiB": 384,
    "name": "ml.m5.24xlarge",
    "vcpuNum": 96
   },
   {
    "_defaultOrder": 12,
    "_isFastLaunch": false,
    "category": "General purpose",
    "gpuNum": 0,
    "hideHardwareSpecs": false,
    "memoryGiB": 8,
    "name": "ml.m5d.large",
    "vcpuNum": 2
   },
   {
    "_defaultOrder": 13,
    "_isFastLaunch": false,
    "category": "General purpose",
    "gpuNum": 0,
    "hideHardwareSpecs": false,
    "memoryGiB": 16,
    "name": "ml.m5d.xlarge",
    "vcpuNum": 4
   },
   {
    "_defaultOrder": 14,
    "_isFastLaunch": false,
    "category": "General purpose",
    "gpuNum": 0,
    "hideHardwareSpecs": false,
    "memoryGiB": 32,
    "name": "ml.m5d.2xlarge",
    "vcpuNum": 8
   },
   {
    "_defaultOrder": 15,
    "_isFastLaunch": false,
    "category": "General purpose",
    "gpuNum": 0,
    "hideHardwareSpecs": false,
    "memoryGiB": 64,
    "name": "ml.m5d.4xlarge",
    "vcpuNum": 16
   },
   {
    "_defaultOrder": 16,
    "_isFastLaunch": false,
    "category": "General purpose",
    "gpuNum": 0,
    "hideHardwareSpecs": false,
    "memoryGiB": 128,
    "name": "ml.m5d.8xlarge",
    "vcpuNum": 32
   },
   {
    "_defaultOrder": 17,
    "_isFastLaunch": false,
    "category": "General purpose",
    "gpuNum": 0,
    "hideHardwareSpecs": false,
    "memoryGiB": 192,
    "name": "ml.m5d.12xlarge",
    "vcpuNum": 48
   },
   {
    "_defaultOrder": 18,
    "_isFastLaunch": false,
    "category": "General purpose",
    "gpuNum": 0,
    "hideHardwareSpecs": false,
    "memoryGiB": 256,
    "name": "ml.m5d.16xlarge",
    "vcpuNum": 64
   },
   {
    "_defaultOrder": 19,
    "_isFastLaunch": false,
    "category": "General purpose",
    "gpuNum": 0,
    "hideHardwareSpecs": false,
    "memoryGiB": 384,
    "name": "ml.m5d.24xlarge",
    "vcpuNum": 96
   },
   {
    "_defaultOrder": 20,
    "_isFastLaunch": false,
    "category": "General purpose",
    "gpuNum": 0,
    "hideHardwareSpecs": true,
    "memoryGiB": 0,
    "name": "ml.geospatial.interactive",
    "supportedImageNames": [
     "sagemaker-geospatial-v1-0"
    ],
    "vcpuNum": 0
   },
   {
    "_defaultOrder": 21,
    "_isFastLaunch": true,
    "category": "Compute optimized",
    "gpuNum": 0,
    "hideHardwareSpecs": false,
    "memoryGiB": 4,
    "name": "ml.c5.large",
    "vcpuNum": 2
   },
   {
    "_defaultOrder": 22,
    "_isFastLaunch": false,
    "category": "Compute optimized",
    "gpuNum": 0,
    "hideHardwareSpecs": false,
    "memoryGiB": 8,
    "name": "ml.c5.xlarge",
    "vcpuNum": 4
   },
   {
    "_defaultOrder": 23,
    "_isFastLaunch": false,
    "category": "Compute optimized",
    "gpuNum": 0,
    "hideHardwareSpecs": false,
    "memoryGiB": 16,
    "name": "ml.c5.2xlarge",
    "vcpuNum": 8
   },
   {
    "_defaultOrder": 24,
    "_isFastLaunch": false,
    "category": "Compute optimized",
    "gpuNum": 0,
    "hideHardwareSpecs": false,
    "memoryGiB": 32,
    "name": "ml.c5.4xlarge",
    "vcpuNum": 16
   },
   {
    "_defaultOrder": 25,
    "_isFastLaunch": false,
    "category": "Compute optimized",
    "gpuNum": 0,
    "hideHardwareSpecs": false,
    "memoryGiB": 72,
    "name": "ml.c5.9xlarge",
    "vcpuNum": 36
   },
   {
    "_defaultOrder": 26,
    "_isFastLaunch": false,
    "category": "Compute optimized",
    "gpuNum": 0,
    "hideHardwareSpecs": false,
    "memoryGiB": 96,
    "name": "ml.c5.12xlarge",
    "vcpuNum": 48
   },
   {
    "_defaultOrder": 27,
    "_isFastLaunch": false,
    "category": "Compute optimized",
    "gpuNum": 0,
    "hideHardwareSpecs": false,
    "memoryGiB": 144,
    "name": "ml.c5.18xlarge",
    "vcpuNum": 72
   },
   {
    "_defaultOrder": 28,
    "_isFastLaunch": false,
    "category": "Compute optimized",
    "gpuNum": 0,
    "hideHardwareSpecs": false,
    "memoryGiB": 192,
    "name": "ml.c5.24xlarge",
    "vcpuNum": 96
   },
   {
    "_defaultOrder": 29,
    "_isFastLaunch": true,
    "category": "Accelerated computing",
    "gpuNum": 1,
    "hideHardwareSpecs": false,
    "memoryGiB": 16,
    "name": "ml.g4dn.xlarge",
    "vcpuNum": 4
   },
   {
    "_defaultOrder": 30,
    "_isFastLaunch": false,
    "category": "Accelerated computing",
    "gpuNum": 1,
    "hideHardwareSpecs": false,
    "memoryGiB": 32,
    "name": "ml.g4dn.2xlarge",
    "vcpuNum": 8
   },
   {
    "_defaultOrder": 31,
    "_isFastLaunch": false,
    "category": "Accelerated computing",
    "gpuNum": 1,
    "hideHardwareSpecs": false,
    "memoryGiB": 64,
    "name": "ml.g4dn.4xlarge",
    "vcpuNum": 16
   },
   {
    "_defaultOrder": 32,
    "_isFastLaunch": false,
    "category": "Accelerated computing",
    "gpuNum": 1,
    "hideHardwareSpecs": false,
    "memoryGiB": 128,
    "name": "ml.g4dn.8xlarge",
    "vcpuNum": 32
   },
   {
    "_defaultOrder": 33,
    "_isFastLaunch": false,
    "category": "Accelerated computing",
    "gpuNum": 4,
    "hideHardwareSpecs": false,
    "memoryGiB": 192,
    "name": "ml.g4dn.12xlarge",
    "vcpuNum": 48
   },
   {
    "_defaultOrder": 34,
    "_isFastLaunch": false,
    "category": "Accelerated computing",
    "gpuNum": 1,
    "hideHardwareSpecs": false,
    "memoryGiB": 256,
    "name": "ml.g4dn.16xlarge",
    "vcpuNum": 64
   },
   {
    "_defaultOrder": 35,
    "_isFastLaunch": false,
    "category": "Accelerated computing",
    "gpuNum": 1,
    "hideHardwareSpecs": false,
    "memoryGiB": 61,
    "name": "ml.p3.2xlarge",
    "vcpuNum": 8
   },
   {
    "_defaultOrder": 36,
    "_isFastLaunch": false,
    "category": "Accelerated computing",
    "gpuNum": 4,
    "hideHardwareSpecs": false,
    "memoryGiB": 244,
    "name": "ml.p3.8xlarge",
    "vcpuNum": 32
   },
   {
    "_defaultOrder": 37,
    "_isFastLaunch": false,
    "category": "Accelerated computing",
    "gpuNum": 8,
    "hideHardwareSpecs": false,
    "memoryGiB": 488,
    "name": "ml.p3.16xlarge",
    "vcpuNum": 64
   },
   {
    "_defaultOrder": 38,
    "_isFastLaunch": false,
    "category": "Accelerated computing",
    "gpuNum": 8,
    "hideHardwareSpecs": false,
    "memoryGiB": 768,
    "name": "ml.p3dn.24xlarge",
    "vcpuNum": 96
   },
   {
    "_defaultOrder": 39,
    "_isFastLaunch": false,
    "category": "Memory Optimized",
    "gpuNum": 0,
    "hideHardwareSpecs": false,
    "memoryGiB": 16,
    "name": "ml.r5.large",
    "vcpuNum": 2
   },
   {
    "_defaultOrder": 40,
    "_isFastLaunch": false,
    "category": "Memory Optimized",
    "gpuNum": 0,
    "hideHardwareSpecs": false,
    "memoryGiB": 32,
    "name": "ml.r5.xlarge",
    "vcpuNum": 4
   },
   {
    "_defaultOrder": 41,
    "_isFastLaunch": false,
    "category": "Memory Optimized",
    "gpuNum": 0,
    "hideHardwareSpecs": false,
    "memoryGiB": 64,
    "name": "ml.r5.2xlarge",
    "vcpuNum": 8
   },
   {
    "_defaultOrder": 42,
    "_isFastLaunch": false,
    "category": "Memory Optimized",
    "gpuNum": 0,
    "hideHardwareSpecs": false,
    "memoryGiB": 128,
    "name": "ml.r5.4xlarge",
    "vcpuNum": 16
   },
   {
    "_defaultOrder": 43,
    "_isFastLaunch": false,
    "category": "Memory Optimized",
    "gpuNum": 0,
    "hideHardwareSpecs": false,
    "memoryGiB": 256,
    "name": "ml.r5.8xlarge",
    "vcpuNum": 32
   },
   {
    "_defaultOrder": 44,
    "_isFastLaunch": false,
    "category": "Memory Optimized",
    "gpuNum": 0,
    "hideHardwareSpecs": false,
    "memoryGiB": 384,
    "name": "ml.r5.12xlarge",
    "vcpuNum": 48
   },
   {
    "_defaultOrder": 45,
    "_isFastLaunch": false,
    "category": "Memory Optimized",
    "gpuNum": 0,
    "hideHardwareSpecs": false,
    "memoryGiB": 512,
    "name": "ml.r5.16xlarge",
    "vcpuNum": 64
   },
   {
    "_defaultOrder": 46,
    "_isFastLaunch": false,
    "category": "Memory Optimized",
    "gpuNum": 0,
    "hideHardwareSpecs": false,
    "memoryGiB": 768,
    "name": "ml.r5.24xlarge",
    "vcpuNum": 96
   },
   {
    "_defaultOrder": 47,
    "_isFastLaunch": false,
    "category": "Accelerated computing",
    "gpuNum": 1,
    "hideHardwareSpecs": false,
    "memoryGiB": 16,
    "name": "ml.g5.xlarge",
    "vcpuNum": 4
   },
   {
    "_defaultOrder": 48,
    "_isFastLaunch": false,
    "category": "Accelerated computing",
    "gpuNum": 1,
    "hideHardwareSpecs": false,
    "memoryGiB": 32,
    "name": "ml.g5.2xlarge",
    "vcpuNum": 8
   },
   {
    "_defaultOrder": 49,
    "_isFastLaunch": false,
    "category": "Accelerated computing",
    "gpuNum": 1,
    "hideHardwareSpecs": false,
    "memoryGiB": 64,
    "name": "ml.g5.4xlarge",
    "vcpuNum": 16
   },
   {
    "_defaultOrder": 50,
    "_isFastLaunch": false,
    "category": "Accelerated computing",
    "gpuNum": 1,
    "hideHardwareSpecs": false,
    "memoryGiB": 128,
    "name": "ml.g5.8xlarge",
    "vcpuNum": 32
   },
   {
    "_defaultOrder": 51,
    "_isFastLaunch": false,
    "category": "Accelerated computing",
    "gpuNum": 1,
    "hideHardwareSpecs": false,
    "memoryGiB": 256,
    "name": "ml.g5.16xlarge",
    "vcpuNum": 64
   },
   {
    "_defaultOrder": 52,
    "_isFastLaunch": false,
    "category": "Accelerated computing",
    "gpuNum": 4,
    "hideHardwareSpecs": false,
    "memoryGiB": 192,
    "name": "ml.g5.12xlarge",
    "vcpuNum": 48
   },
   {
    "_defaultOrder": 53,
    "_isFastLaunch": false,
    "category": "Accelerated computing",
    "gpuNum": 4,
    "hideHardwareSpecs": false,
    "memoryGiB": 384,
    "name": "ml.g5.24xlarge",
    "vcpuNum": 96
   },
   {
    "_defaultOrder": 54,
    "_isFastLaunch": false,
    "category": "Accelerated computing",
    "gpuNum": 8,
    "hideHardwareSpecs": false,
    "memoryGiB": 768,
    "name": "ml.g5.48xlarge",
    "vcpuNum": 192
   },
   {
    "_defaultOrder": 55,
    "_isFastLaunch": false,
    "category": "Accelerated computing",
    "gpuNum": 8,
    "hideHardwareSpecs": false,
    "memoryGiB": 1152,
    "name": "ml.p4d.24xlarge",
    "vcpuNum": 96
   },
   {
    "_defaultOrder": 56,
    "_isFastLaunch": false,
    "category": "Accelerated computing",
    "gpuNum": 8,
    "hideHardwareSpecs": false,
    "memoryGiB": 1152,
    "name": "ml.p4de.24xlarge",
    "vcpuNum": 96
   },
   {
    "_defaultOrder": 57,
    "_isFastLaunch": false,
    "category": "Accelerated computing",
    "gpuNum": 0,
    "hideHardwareSpecs": false,
    "memoryGiB": 32,
    "name": "ml.trn1.2xlarge",
    "vcpuNum": 8
   },
   {
    "_defaultOrder": 58,
    "_isFastLaunch": false,
    "category": "Accelerated computing",
    "gpuNum": 0,
    "hideHardwareSpecs": false,
    "memoryGiB": 512,
    "name": "ml.trn1.32xlarge",
    "vcpuNum": 128
   },
   {
    "_defaultOrder": 59,
    "_isFastLaunch": false,
    "category": "Accelerated computing",
    "gpuNum": 0,
    "hideHardwareSpecs": false,
    "memoryGiB": 512,
    "name": "ml.trn1n.32xlarge",
    "vcpuNum": 128
   }
  ],
  "instance_type": "ml.t3.medium",
  "kernelspec": {
   "display_name": "Python 3 (ipykernel)",
   "language": "python",
   "name": "python3"
  },
  "language_info": {
   "codemirror_mode": {
    "name": "ipython",
    "version": 3
   },
   "file_extension": ".py",
   "mimetype": "text/x-python",
   "name": "python",
   "nbconvert_exporter": "python",
   "pygments_lexer": "ipython3",
   "version": "3.12.4"
  }
 },
 "nbformat": 4,
 "nbformat_minor": 5
}
